{
 "cells": [
  {
   "cell_type": "markdown",
   "id": "6bfaf971",
   "metadata": {},
   "source": [
    "<h1> House prices prediciton </h1>"
   ]
  },
  {
   "cell_type": "markdown",
   "id": "ff2d523a",
   "metadata": {},
   "source": [
    "In this project, I'm going to analyze the data, clean the data and create e regression model to try to predict the house prices based on the several parameters given."
   ]
  },
  {
   "cell_type": "code",
   "execution_count": 21,
   "id": "d0bb90a4",
   "metadata": {},
   "outputs": [],
   "source": [
    "#import necessary libraries for data analysis, data visualization ad machine learning.\n",
    "\n",
    "import pandas as pd\n",
    "import numpy as np\n",
    "import matplotlib.pyplot as plt\n",
    "import seaborn as sns\n",
    "from sklearn.preprocessing import Normalizer\n",
    "from sklearn.model_selection import train_test_split\n",
    "from sklearn.linear_model import LinearRegression\n",
    "from sklearn.metrics import r2_score\n",
    "import warnings\n",
    "warnings.filterwarnings('ignore')"
   ]
  },
  {
   "cell_type": "code",
   "execution_count": 22,
   "id": "f1802bd0",
   "metadata": {},
   "outputs": [],
   "source": [
    "correlation_factor = 0.1"
   ]
  }
 ],
 "metadata": {
  "kernelspec": {
   "display_name": "Python 3",
   "language": "python",
   "name": "python3"
  },
  "language_info": {
   "codemirror_mode": {
    "name": "ipython",
    "version": 3
   },
   "file_extension": ".py",
   "mimetype": "text/x-python",
   "name": "python",
   "nbconvert_exporter": "python",
   "pygments_lexer": "ipython3",
   "version": "3.9.20"
  }
 },
 "nbformat": 4,
 "nbformat_minor": 5
}
